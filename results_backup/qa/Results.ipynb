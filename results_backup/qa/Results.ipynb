{
 "cells": [
  {
   "cell_type": "markdown",
   "id": "58e9c6f8-607d-433f-a130-07cbb6b17884",
   "metadata": {},
   "source": [
    "```shell\n",
    "conda install -c conda-forge jupyterlab\n",
    "jupyter lab\n",
    "```"
   ]
  },
  {
   "cell_type": "code",
   "execution_count": 1,
   "id": "b850a363-6ac6-43f1-a3ee-219dbb17b04c",
   "metadata": {},
   "outputs": [
    {
     "name": "stdout",
     "output_type": "stream",
     "text": [
      "01:11:00.317 | DEBUG   | prefect.client - Connecting to API at http://127.0.0.1:4200/api/\n",
      "Version:             2.4.5+74.gd1f81d15b\n",
      "API version:         0.8.1\n",
      "Python version:      3.9.12\n",
      "Git commit:          d1f81d15\n",
      "Built:               Fri, Oct 7, 2022 2:51 PM\n",
      "OS/Arch:             darwin/arm64\n",
      "Profile:             default\n",
      "Server type:         hosted\n"
     ]
    }
   ],
   "source": [
    "!prefect version"
   ]
  },
  {
   "cell_type": "code",
   "execution_count": 2,
   "id": "be00403f-12e1-4920-ac05-e45b6c95e921",
   "metadata": {
    "collapsed": true,
    "jupyter": {
     "outputs_hidden": true
    },
    "tags": []
   },
   "outputs": [
    {
     "name": "stdout",
     "output_type": "stream",
     "text": [
      "PREFECT_PROFILE='default'\n",
      "PREFECT_AGENT_PREFETCH_SECONDS='10' (from defaults)\n",
      "PREFECT_AGENT_QUERY_INTERVAL='5.0' (from defaults)\n",
      "PREFECT_API_KEY='None' (from defaults)\n",
      "PREFECT_API_REQUEST_TIMEOUT='30.0' (from defaults)\n",
      "PREFECT_API_URL='http://127.0.0.1:4200/api' (from profile)\n",
      "PREFECT_ASYNC_FETCH_STATE_RESULT='False' (from defaults)\n",
      "PREFECT_CLI_COLORS='True' (from defaults)\n",
      "PREFECT_CLI_WRAP_LINES='True' (from defaults)\n",
      "PREFECT_CLOUD_URL='https://api.prefect.cloud/api' (from defaults)\n",
      "PREFECT_DEBUG_MODE='False' (from defaults)\n",
      "PREFECT_HOME='~/.prefect' (from defaults)\n",
      "PREFECT_LOCAL_STORAGE_PATH='/Users/anna/repos/prefect-deployment-patterns/result\n",
      "s/tmp' (from profile)\n",
      "PREFECT_LOGGING_EXTRA_LOGGERS='' (from defaults)\n",
      "PREFECT_LOGGING_LEVEL='DEBUG' (from profile)\n",
      "PREFECT_LOGGING_ORION_BATCH_INTERVAL='2.0' (from defaults)\n",
      "PREFECT_LOGGING_ORION_BATCH_SIZE='4000000' (from defaults)\n",
      "PREFECT_LOGGING_ORION_ENABLED='True' (from defaults)\n",
      "PREFECT_LOGGING_ORION_MAX_LOG_SIZE='1000000' (from defaults)\n",
      "PREFECT_LOGGING_SERVER_LEVEL='WARNING' (from defaults)\n",
      "PREFECT_LOGGING_SETTINGS_PATH='${PREFECT_HOME}/logging.yml' (from defaults)\n",
      "PREFECT_MEMOIZE_BLOCK_AUTO_REGISTRATION='True' (from defaults)\n",
      "PREFECT_MEMO_STORE_PATH='${PREFECT_HOME}/memo_store.toml' (from defaults)\n",
      "PREFECT_ORION_ANALYTICS_ENABLED='True' (from defaults)\n",
      "PREFECT_ORION_API_DEFAULT_LIMIT='200' (from defaults)\n",
      "PREFECT_ORION_API_HOST='127.0.0.1' (from defaults)\n",
      "PREFECT_ORION_API_PORT='4200' (from defaults)\n",
      "PREFECT_ORION_BLOCKS_REGISTER_ON_START='True' (from defaults)\n",
      "PREFECT_ORION_DATABASE_CONNECTION_TIMEOUT='5.0' (from defaults)\n",
      "PREFECT_ORION_DATABASE_CONNECTION_URL='sqlite+aiosqlite:///${PREFECT_HOME}/orion\n",
      ".db' (from defaults)\n",
      "PREFECT_ORION_DATABASE_ECHO='False' (from defaults)\n",
      "PREFECT_ORION_DATABASE_MIGRATE_ON_START='True' (from defaults)\n",
      "PREFECT_ORION_DATABASE_PASSWORD='None' (from defaults)\n",
      "PREFECT_ORION_DATABASE_TIMEOUT='1.0' (from defaults)\n",
      "PREFECT_ORION_SERVICES_FLOW_RUN_NOTIFICATIONS_ENABLED='True' (from defaults)\n",
      "PREFECT_ORION_SERVICES_LATE_RUNS_AFTER_SECONDS='0:00:05' (from defaults)\n",
      "PREFECT_ORION_SERVICES_LATE_RUNS_ENABLED='True' (from defaults)\n",
      "PREFECT_ORION_SERVICES_LATE_RUNS_LOOP_SECONDS='5.0' (from defaults)\n",
      "PREFECT_ORION_SERVICES_SCHEDULER_DEPLOYMENT_BATCH_SIZE='100' (from defaults)\n",
      "PREFECT_ORION_SERVICES_SCHEDULER_ENABLED='True' (from defaults)\n",
      "PREFECT_ORION_SERVICES_SCHEDULER_INSERT_BATCH_SIZE='500' (from defaults)\n",
      "PREFECT_ORION_SERVICES_SCHEDULER_LOOP_SECONDS='60.0' (from defaults)\n",
      "PREFECT_ORION_SERVICES_SCHEDULER_MAX_RUNS='100' (from defaults)\n",
      "PREFECT_ORION_SERVICES_SCHEDULER_MAX_SCHEDULED_TIME='100 days, 0:00:00' (from \n",
      "defaults)\n",
      "PREFECT_ORION_UI_API_URL='None' (from defaults)\n",
      "PREFECT_ORION_UI_ENABLED='True' (from defaults)\n",
      "PREFECT_PROFILES_PATH='${PREFECT_HOME}/profiles.toml' (from defaults)\n",
      "PREFECT_RESULTS_DEFAULT_SERIALIZER='pickle' (from defaults)\n",
      "PREFECT_TEST_MODE='False' (from defaults)\n",
      "PREFECT_TEST_SETTING='None' (from defaults)\n"
     ]
    }
   ],
   "source": [
    "!prefect config view --show-defaults"
   ]
  },
  {
   "cell_type": "markdown",
   "id": "1fad008a-3f29-45af-8014-cc192f5ae684",
   "metadata": {},
   "source": [
    "```shell\n",
    "PREFECT_RESULTS_DEFAULT_SERIALIZER='pickle'\n",
    "PREFECT_LOCAL_STORAGE_PATH='${PREFECT_HOME}/storage'\n",
    "```"
   ]
  },
  {
   "cell_type": "code",
   "execution_count": 14,
   "id": "5039a78f-5b36-49bd-9aaf-27481f95ed6d",
   "metadata": {},
   "outputs": [
    {
     "name": "stdout",
     "output_type": "stream",
     "text": [
      "/Users/anna/repos/prefect-deployment-patterns/results/qa\n"
     ]
    }
   ],
   "source": [
    "!pwd"
   ]
  },
  {
   "cell_type": "code",
   "execution_count": 19,
   "id": "c8241451-25f5-4faa-a50c-8620d4b9b922",
   "metadata": {},
   "outputs": [
    {
     "name": "stdout",
     "output_type": "stream",
     "text": [
      "Set 'PREFECT_LOCAL_STORAGE_PATH' to \n",
      "'/Users/anna/repos/prefect-deployment-patterns/results/qa/files'.\n",
      "\u001b[32mUpdated profile 'default'.\u001b[0m\n"
     ]
    }
   ],
   "source": [
    "!prefect config set PREFECT_LOCAL_STORAGE_PATH='/Users/anna/repos/prefect-deployment-patterns/results/qa/files'"
   ]
  },
  {
   "cell_type": "markdown",
   "id": "8598621f-e829-4e2c-979d-d348700a9779",
   "metadata": {},
   "source": [
    "# Flow level QA\n",
    "\n",
    "## `persist_result=False`"
   ]
  },
  {
   "cell_type": "code",
   "execution_count": 18,
   "id": "d8c991d4-7867-40da-af12-edd1fabe0904",
   "metadata": {},
   "outputs": [
    {
     "name": "stdout",
     "output_type": "stream",
     "text": [
      "01:24:15.342 | DEBUG   | prefect.client - Connecting to API at http://127.0.0.1:4200/api/\n",
      "01:24:15.433 | INFO    | prefect.engine - Created flow run 'boisterous-clam' for flow 'flow-dont-persist-result'\n",
      "01:24:15.433 | DEBUG   | Flow run 'boisterous-clam' - Starting 'ConcurrentTaskRunner'; submitted tasks will be run concurrently...\n",
      "01:24:15.434 | DEBUG   | prefect.task_runner.concurrent - Starting task runner...\n",
      "01:24:15.440 | DEBUG   | prefect.client - Connecting to API at http://127.0.0.1:4200/api/\n",
      "01:24:15.518 | DEBUG   | prefect.client - Connecting to API at http://127.0.0.1:4200/api/\n",
      "01:24:15.601 | DEBUG   | Flow run 'boisterous-clam' - Executing flow 'flow-dont-persist-result' for flow run 'boisterous-clam'...\n",
      "01:24:15.602 | DEBUG   | Flow run 'boisterous-clam' - Beginning execution...\n",
      "01:24:15.613 | DEBUG   | prefect.task_runner.concurrent - Shutting down task runner...\n",
      "01:24:15.613 | INFO    | Flow run 'boisterous-clam' - Finished in state Completed()\n",
      "01:24:15.617 | DEBUG   | prefect.client - Connecting to API at http://127.0.0.1:4200/api/\n"
     ]
    }
   ],
   "source": [
    "!python flow_dont_persist_result.py"
   ]
  },
  {
   "cell_type": "code",
   "execution_count": 22,
   "id": "7821cf63-29b5-487e-87ab-1212af10d9f3",
   "metadata": {},
   "outputs": [],
   "source": [
    "!ls /Users/anna/repos/prefect-deployment-patterns/results/qa/files"
   ]
  },
  {
   "cell_type": "code",
   "execution_count": 23,
   "id": "02fd0007-e098-455b-95f2-c81817297416",
   "metadata": {},
   "outputs": [
    {
     "name": "stdout",
     "output_type": "stream",
     "text": [
      "01:26:01.310 | DEBUG   | prefect.client - Connecting to API at http://127.0.0.1:4200/api/\n",
      "01:26:01.410 | INFO    | prefect.engine - Created flow run 'beige-lynx' for flow 'flow-dont-persist-result-s3'\n",
      "01:26:01.411 | DEBUG   | Flow run 'beige-lynx' - Starting 'ConcurrentTaskRunner'; submitted tasks will be run concurrently...\n",
      "01:26:01.411 | DEBUG   | prefect.task_runner.concurrent - Starting task runner...\n",
      "01:26:01.423 | DEBUG   | prefect.client - Connecting to API at http://127.0.0.1:4200/api/\n",
      "01:26:01.526 | DEBUG   | Flow run 'beige-lynx' - Executing flow 'flow-dont-persist-result-s3' for flow run 'beige-lynx'...\n",
      "01:26:01.526 | DEBUG   | Flow run 'beige-lynx' - Beginning execution...\n",
      "01:26:01.541 | DEBUG   | prefect.task_runner.concurrent - Shutting down task runner...\n",
      "01:26:01.541 | INFO    | Flow run 'beige-lynx' - Finished in state Completed()\n",
      "01:26:01.545 | DEBUG   | prefect.client - Connecting to API at http://127.0.0.1:4200/api/\n"
     ]
    }
   ],
   "source": [
    "!python flow_dont_persist_result_s3.py"
   ]
  },
  {
   "cell_type": "code",
   "execution_count": 24,
   "id": "d398bfde-e989-4a36-b189-838d498b1045",
   "metadata": {},
   "outputs": [],
   "source": [
    "!ls /Users/anna/repos/prefect-deployment-patterns/results/qa/files"
   ]
  },
  {
   "cell_type": "markdown",
   "id": "55701a29-39ac-4dbb-a2c3-bd3e9defc248",
   "metadata": {},
   "source": [
    "## `persist_result=True`\n",
    "\n",
    "### Default `PickleSerializer`"
   ]
  },
  {
   "cell_type": "code",
   "execution_count": 25,
   "id": "2c25718e-3446-4fdf-93d4-16bce2d9b049",
   "metadata": {},
   "outputs": [
    {
     "name": "stdout",
     "output_type": "stream",
     "text": [
      "01:26:40.832 | DEBUG   | prefect.client - Connecting to API at http://127.0.0.1:4200/api/\n",
      "01:26:40.890 | INFO    | prefect.engine - Created flow run 'tacky-dolphin' for flow 'flow-persist-result'\n",
      "01:26:40.891 | DEBUG   | Flow run 'tacky-dolphin' - Starting 'ConcurrentTaskRunner'; submitted tasks will be run concurrently...\n",
      "01:26:40.891 | DEBUG   | prefect.task_runner.concurrent - Starting task runner...\n",
      "01:26:40.896 | DEBUG   | prefect.client - Connecting to API at http://127.0.0.1:4200/api/\n",
      "01:26:40.948 | DEBUG   | prefect.client - Connecting to API at http://127.0.0.1:4200/api/\n",
      "01:26:41.010 | DEBUG   | Flow run 'tacky-dolphin' - Executing flow 'flow-persist-result' for flow run 'tacky-dolphin'...\n",
      "01:26:41.010 | DEBUG   | Flow run 'tacky-dolphin' - Beginning execution...\n",
      "01:26:41.016 | DEBUG   | prefect.client - Connecting to API at http://127.0.0.1:4200/api/\n",
      "01:26:41.029 | DEBUG   | prefect.task_runner.concurrent - Shutting down task runner...\n",
      "01:26:41.029 | INFO    | Flow run 'tacky-dolphin' - Finished in state Completed()\n",
      "01:26:41.034 | DEBUG   | prefect.client - Connecting to API at http://127.0.0.1:4200/api/\n",
      "01:26:41.049 | DEBUG   | prefect.client - Connecting to API at http://127.0.0.1:4200/api/\n"
     ]
    }
   ],
   "source": [
    "!python flow_persist_result.py"
   ]
  },
  {
   "cell_type": "code",
   "execution_count": 26,
   "id": "8bf17a64-ca1f-4524-8df7-e3557e37f050",
   "metadata": {},
   "outputs": [
    {
     "name": "stdout",
     "output_type": "stream",
     "text": [
      "fd74ca705a694b8bae36cb63ec8d6734\n"
     ]
    }
   ],
   "source": [
    "!ls /Users/anna/repos/prefect-deployment-patterns/results/qa/files"
   ]
  },
  {
   "cell_type": "code",
   "execution_count": 27,
   "id": "fffe1f85-51a9-4792-a699-a7e13f00c2b0",
   "metadata": {},
   "outputs": [
    {
     "name": "stdout",
     "output_type": "stream",
     "text": [
      "{\"serializer\": {\"type\": \"pickle\", \"picklelib\": \"cloudpickle\", \"picklelib_version\": \"2.1.0\"}, \"data\": \"gAWVGQAAAAAAAACMFUhpIGZyb20gUmVzdWx0cyEg8J+Ri5Qu\\n\", \"prefect_version\": \"2.4.5+74.gd1f81d15b\"}"
     ]
    }
   ],
   "source": [
    "!cat /Users/anna/repos/prefect-deployment-patterns/results/qa/files/fd74ca705a694b8bae36cb63ec8d6734"
   ]
  },
  {
   "cell_type": "code",
   "execution_count": 31,
   "id": "f8f2c4d7-f10c-4c3f-b0e5-df6f44c84def",
   "metadata": {},
   "outputs": [],
   "source": [
    "import json\n",
    "from prefect.results import ResultBlob\n",
    "from prefect.serializers import PickleSerializer, JSONSerializer\n",
    "\n",
    "\n",
    "def read_result(path: str, serialier: str = \"pickle\"):\n",
    "    with open(path, \"rb\") as buffered_reader:\n",
    "        dict_obj = json.load(buffered_reader)\n",
    "        blob = ResultBlob.parse_obj(dict_obj)\n",
    "    if serialier == \"json\":\n",
    "        result = JSONSerializer().loads(blob.data)\n",
    "    else:\n",
    "        result = PickleSerializer().loads(blob.data)\n",
    "    return result"
   ]
  },
  {
   "cell_type": "code",
   "execution_count": 32,
   "id": "fdd84a44-64b1-4d93-a9bd-aa25e9e4134b",
   "metadata": {},
   "outputs": [
    {
     "name": "stdout",
     "output_type": "stream",
     "text": [
      "Hi from Results! 👋\n"
     ]
    }
   ],
   "source": [
    "print(read_result(\"/Users/anna/repos/prefect-deployment-patterns/results/qa/files/fd74ca705a694b8bae36cb63ec8d6734\"))"
   ]
  },
  {
   "cell_type": "code",
   "execution_count": 33,
   "id": "33bf64dc-8eba-48b2-841a-5c20d970ae53",
   "metadata": {},
   "outputs": [],
   "source": [
    "!rm /Users/anna/repos/prefect-deployment-patterns/results/qa/files/fd74ca705a694b8bae36cb63ec8d6734"
   ]
  },
  {
   "cell_type": "markdown",
   "id": "3a608fa6-9771-468a-b822-cff8b3753254",
   "metadata": {},
   "source": [
    "### `JSONSerializer`"
   ]
  },
  {
   "cell_type": "code",
   "execution_count": 38,
   "id": "7a25c1dc-41b8-485f-ae5f-edbcd35f5cec",
   "metadata": {},
   "outputs": [
    {
     "name": "stdout",
     "output_type": "stream",
     "text": [
      "01:35:29.844 | DEBUG   | prefect.client - Connecting to API at http://127.0.0.1:4200/api/\n",
      "01:35:29.938 | INFO    | prefect.engine - Created flow run 'striped-trogon' for flow 'flow-persist-result-json'\n",
      "01:35:29.938 | DEBUG   | Flow run 'striped-trogon' - Starting 'ConcurrentTaskRunner'; submitted tasks will be run concurrently...\n",
      "01:35:29.939 | DEBUG   | prefect.task_runner.concurrent - Starting task runner...\n",
      "01:35:29.948 | DEBUG   | prefect.client - Connecting to API at http://127.0.0.1:4200/api/\n",
      "01:35:30.020 | DEBUG   | prefect.client - Connecting to API at http://127.0.0.1:4200/api/\n",
      "01:35:30.092 | DEBUG   | Flow run 'striped-trogon' - Executing flow 'flow-persist-result-json' for flow run 'striped-trogon'...\n",
      "01:35:30.092 | DEBUG   | Flow run 'striped-trogon' - Beginning execution...\n",
      "01:35:30.097 | DEBUG   | prefect.client - Connecting to API at http://127.0.0.1:4200/api/\n",
      "01:35:30.111 | DEBUG   | prefect.task_runner.concurrent - Shutting down task runner...\n",
      "01:35:30.111 | INFO    | Flow run 'striped-trogon' - Finished in state Completed()\n",
      "01:35:30.115 | DEBUG   | prefect.client - Connecting to API at http://127.0.0.1:4200/api/\n",
      "01:35:30.132 | DEBUG   | prefect.client - Connecting to API at http://127.0.0.1:4200/api/\n"
     ]
    }
   ],
   "source": [
    "!python flow_persist_result_json.py"
   ]
  },
  {
   "cell_type": "code",
   "execution_count": 39,
   "id": "a46b5712-da72-43e8-a833-7db12bd6f4ac",
   "metadata": {},
   "outputs": [
    {
     "name": "stdout",
     "output_type": "stream",
     "text": [
      "80830b37c5ba4e9eb6788fb153aaa283\n"
     ]
    }
   ],
   "source": [
    "!ls /Users/anna/repos/prefect-deployment-patterns/results/qa/files"
   ]
  },
  {
   "cell_type": "code",
   "execution_count": 40,
   "id": "1603e733-1f30-4bde-ad67-5c31759db397",
   "metadata": {},
   "outputs": [
    {
     "name": "stdout",
     "output_type": "stream",
     "text": [
      "{\"serializer\": {\"type\": \"json\", \"jsonlib\": \"json\", \"object_encoder\": \"prefect.serializers.prefect_json_object_encoder\", \"object_decoder\": \"prefect.serializers.prefect_json_object_decoder\", \"dumps_kwargs\": {}, \"loads_kwargs\": {}}, \"data\": \"\\\"Hi from Results with JSON serializer! \\\\ud83d\\\\udc4b\\\"\", \"prefect_version\": \"2.4.5+74.gd1f81d15b\"}"
     ]
    }
   ],
   "source": [
    "!cat /Users/anna/repos/prefect-deployment-patterns/results/qa/files/80830b37c5ba4e9eb6788fb153aaa283"
   ]
  },
  {
   "cell_type": "code",
   "execution_count": 41,
   "id": "e2f49a08-b349-4281-9a16-133e6d743442",
   "metadata": {},
   "outputs": [
    {
     "name": "stdout",
     "output_type": "stream",
     "text": [
      "Hi from Results with JSON serializer! 👋\n"
     ]
    }
   ],
   "source": [
    "print(read_result(\"/Users/anna/repos/prefect-deployment-patterns/results/qa/files/80830b37c5ba4e9eb6788fb153aaa283\", \"json\"))"
   ]
  },
  {
   "cell_type": "code",
   "execution_count": 42,
   "id": "6a3a51fd-9cfb-4694-afc3-8e3be706982e",
   "metadata": {},
   "outputs": [],
   "source": [
    "!rm /Users/anna/repos/prefect-deployment-patterns/results/qa/files/80830b37c5ba4e9eb6788fb153aaa283"
   ]
  },
  {
   "cell_type": "markdown",
   "id": "40cdccb0-2c95-4d08-af61-f39778a3fd51",
   "metadata": {},
   "source": [
    "### `JSONSerializer(jsonlib=\"orjson\")`"
   ]
  },
  {
   "cell_type": "code",
   "execution_count": 43,
   "id": "ca5591a7-ef12-49f0-ae55-e65008001ab5",
   "metadata": {},
   "outputs": [
    {
     "name": "stdout",
     "output_type": "stream",
     "text": [
      "01:36:49.310 | DEBUG   | prefect.client - Connecting to API at http://127.0.0.1:4200/api/\n",
      "01:36:49.379 | INFO    | prefect.engine - Created flow run 'augmented-rhino' for flow 'flow-persist-result-orjson'\n",
      "01:36:49.379 | DEBUG   | Flow run 'augmented-rhino' - Starting 'ConcurrentTaskRunner'; submitted tasks will be run concurrently...\n",
      "01:36:49.380 | DEBUG   | prefect.task_runner.concurrent - Starting task runner...\n",
      "01:36:49.385 | DEBUG   | prefect.client - Connecting to API at http://127.0.0.1:4200/api/\n",
      "01:36:49.436 | DEBUG   | prefect.client - Connecting to API at http://127.0.0.1:4200/api/\n",
      "01:36:49.495 | DEBUG   | Flow run 'augmented-rhino' - Executing flow 'flow-persist-result-orjson' for flow run 'augmented-rhino'...\n",
      "01:36:49.496 | DEBUG   | Flow run 'augmented-rhino' - Beginning execution...\n",
      "01:36:49.501 | DEBUG   | prefect.client - Connecting to API at http://127.0.0.1:4200/api/\n",
      "01:36:49.515 | DEBUG   | prefect.task_runner.concurrent - Shutting down task runner...\n",
      "01:36:49.515 | INFO    | Flow run 'augmented-rhino' - Finished in state Completed()\n",
      "01:36:49.520 | DEBUG   | prefect.client - Connecting to API at http://127.0.0.1:4200/api/\n",
      "01:36:49.548 | DEBUG   | prefect.client - Connecting to API at http://127.0.0.1:4200/api/\n"
     ]
    }
   ],
   "source": [
    "!python flow_persist_result_orjson.py"
   ]
  },
  {
   "cell_type": "code",
   "execution_count": 44,
   "id": "0f6c406f-bc58-4c97-bc01-4e65cc367d06",
   "metadata": {},
   "outputs": [
    {
     "name": "stdout",
     "output_type": "stream",
     "text": [
      "a728921029ac4a75bb592aed8259e86c\n"
     ]
    }
   ],
   "source": [
    "!ls /Users/anna/repos/prefect-deployment-patterns/results/qa/files"
   ]
  },
  {
   "cell_type": "code",
   "execution_count": 45,
   "id": "1966a915-2e78-4bf3-be5e-667652fa4dc4",
   "metadata": {},
   "outputs": [
    {
     "name": "stdout",
     "output_type": "stream",
     "text": [
      "{\"serializer\": {\"type\": \"json\", \"jsonlib\": \"orjson\", \"object_encoder\": \"prefect.serializers.prefect_json_object_encoder\", \"object_decoder\": \"prefect.serializers.prefect_json_object_decoder\", \"dumps_kwargs\": {}, \"loads_kwargs\": {}}, \"data\": \"\\\"Hi from Results with orjson serializer! \\ud83d\\udc4b\\\"\", \"prefect_version\": \"2.4.5+74.gd1f81d15b\"}"
     ]
    }
   ],
   "source": [
    "!cat /Users/anna/repos/prefect-deployment-patterns/results/qa/files/a728921029ac4a75bb592aed8259e86c"
   ]
  },
  {
   "cell_type": "code",
   "execution_count": 46,
   "id": "0a638cc1-d52f-43d4-901c-6b062fd49fd7",
   "metadata": {},
   "outputs": [
    {
     "name": "stdout",
     "output_type": "stream",
     "text": [
      "Hi from Results with orjson serializer! 👋\n"
     ]
    }
   ],
   "source": [
    "print(read_result(\"/Users/anna/repos/prefect-deployment-patterns/results/qa/files/a728921029ac4a75bb592aed8259e86c\", \"json\"))"
   ]
  },
  {
   "cell_type": "markdown",
   "id": "f177b5a2-7c82-4a20-af0f-5993e52fd14e",
   "metadata": {},
   "source": [
    "## S3"
   ]
  },
  {
   "cell_type": "code",
   "execution_count": 47,
   "id": "d49bb778-fc78-467c-a8bd-044d2970e17d",
   "metadata": {},
   "outputs": [],
   "source": [
    "!rm /Users/anna/repos/prefect-deployment-patterns/results/qa/files/a728921029ac4a75bb592aed8259e86c"
   ]
  },
  {
   "cell_type": "code",
   "execution_count": 57,
   "id": "c026f5e3-edf4-4ecc-8fdd-57976dbd1f69",
   "metadata": {},
   "outputs": [
    {
     "name": "stdout",
     "output_type": "stream",
     "text": [
      "delete: s3://prefect-orion/dev/d0451b42554d4379a0cc7a809c68de20\n"
     ]
    }
   ],
   "source": [
    "!aws s3 rm s3://prefect-orion/dev --recursive"
   ]
  },
  {
   "cell_type": "code",
   "execution_count": 58,
   "id": "c2c0b686-983e-4ddc-832b-251e17f21c99",
   "metadata": {},
   "outputs": [
    {
     "name": "stdout",
     "output_type": "stream",
     "text": [
      "01:44:30.034 | DEBUG   | prefect.client - Connecting to API at http://127.0.0.1:4200/api/\n",
      "01:44:30.156 | INFO    | prefect.engine - Created flow run 'noisy-quetzal' for flow 'flow-persist-result-s3'\n",
      "01:44:30.157 | DEBUG   | Flow run 'noisy-quetzal' - Starting 'ConcurrentTaskRunner'; submitted tasks will be run concurrently...\n",
      "01:44:30.160 | DEBUG   | prefect.task_runner.concurrent - Starting task runner...\n",
      "01:44:30.173 | DEBUG   | prefect.client - Connecting to API at http://127.0.0.1:4200/api/\n",
      "01:44:30.258 | DEBUG   | Flow run 'noisy-quetzal' - Executing flow 'flow-persist-result-s3' for flow run 'noisy-quetzal'...\n",
      "01:44:30.258 | DEBUG   | Flow run 'noisy-quetzal' - Beginning execution...\n",
      "01:44:31.152 | DEBUG   | prefect.client - Connecting to API at http://127.0.0.1:4200/api/\n",
      "01:44:31.164 | DEBUG   | prefect.task_runner.concurrent - Shutting down task runner...\n",
      "01:44:31.164 | INFO    | Flow run 'noisy-quetzal' - Finished in state Completed()\n",
      "01:44:31.169 | DEBUG   | prefect.client - Connecting to API at http://127.0.0.1:4200/api/\n",
      "01:44:31.183 | DEBUG   | prefect.client - Connecting to API at http://127.0.0.1:4200/api/\n"
     ]
    }
   ],
   "source": [
    "!python flow_persist_result_s3.py"
   ]
  },
  {
   "cell_type": "code",
   "execution_count": 59,
   "id": "854f080f-5e54-40ba-a752-e1b8907302c3",
   "metadata": {},
   "outputs": [
    {
     "name": "stdout",
     "output_type": "stream",
     "text": [
      "2022-10-08 01:44:34        212 62f9b79b835d40cba045481f10f3d4b4\n"
     ]
    }
   ],
   "source": [
    "!aws s3 ls s3://prefect-orion/dev/"
   ]
  },
  {
   "cell_type": "code",
   "execution_count": 60,
   "id": "c347eb67-8ffa-4b78-9603-577480b307a9",
   "metadata": {},
   "outputs": [
    {
     "name": "stdout",
     "output_type": "stream",
     "text": [
      "download: s3://prefect-orion/dev/62f9b79b835d40cba045481f10f3d4b4 to files/62f9b79b835d40cba045481f10f3d4b4\n"
     ]
    }
   ],
   "source": [
    "!aws s3 cp s3://prefect-orion/dev/62f9b79b835d40cba045481f10f3d4b4 files/."
   ]
  },
  {
   "cell_type": "code",
   "execution_count": 61,
   "id": "068d06e3-ca13-4a68-9c9c-11771b3516b0",
   "metadata": {},
   "outputs": [
    {
     "name": "stdout",
     "output_type": "stream",
     "text": [
      "cat: 62f9b79b835d40cba045481f10f3d4b4: No such file or directory\n"
     ]
    }
   ],
   "source": [
    "!cat 62f9b79b835d40cba045481f10f3d4b4"
   ]
  },
  {
   "cell_type": "code",
   "execution_count": 62,
   "id": "143d0b74-b55c-44c4-9d31-2e344bed9756",
   "metadata": {},
   "outputs": [
    {
     "name": "stdout",
     "output_type": "stream",
     "text": [
      "Hi from Results and from S3! 🪣\n"
     ]
    }
   ],
   "source": [
    "print(read_result(\"/Users/anna/repos/prefect-deployment-patterns/results/qa/files/62f9b79b835d40cba045481f10f3d4b4\"))"
   ]
  },
  {
   "cell_type": "code",
   "execution_count": 63,
   "id": "0600afc5-64f7-4cfd-9ba5-53f9f0ea7f57",
   "metadata": {},
   "outputs": [
    {
     "name": "stdout",
     "output_type": "stream",
     "text": [
      "rm: files/: is a directory\n"
     ]
    }
   ],
   "source": [
    "!rm -r files/"
   ]
  },
  {
   "cell_type": "code",
   "execution_count": null,
   "id": "7318bf39-e579-47bd-9c83-4b9fdf8cc3bc",
   "metadata": {},
   "outputs": [],
   "source": [
    "!python flow_persist_result_s3_json.py"
   ]
  },
  {
   "cell_type": "code",
   "execution_count": null,
   "id": "0774b9ae-f334-49ef-9275-36e4c3993809",
   "metadata": {},
   "outputs": [],
   "source": []
  },
  {
   "cell_type": "code",
   "execution_count": null,
   "id": "69031dc9-fa9c-4d91-83bc-68de63a0f7f9",
   "metadata": {},
   "outputs": [],
   "source": []
  },
  {
   "cell_type": "code",
   "execution_count": null,
   "id": "b690fce4-375a-4657-ac8d-fd530a3b47c7",
   "metadata": {},
   "outputs": [],
   "source": []
  },
  {
   "cell_type": "code",
   "execution_count": null,
   "id": "219c2362-f958-423b-b8a9-9b9538acca05",
   "metadata": {},
   "outputs": [],
   "source": []
  }
 ],
 "metadata": {
  "kernelspec": {
   "display_name": "Python 3",
   "language": "python",
   "name": "python3"
  },
  "language_info": {
   "codemirror_mode": {
    "name": "ipython",
    "version": 3
   },
   "file_extension": ".py",
   "mimetype": "text/x-python",
   "name": "python",
   "nbconvert_exporter": "python",
   "pygments_lexer": "ipython3",
   "version": "3.9.12"
  }
 },
 "nbformat": 4,
 "nbformat_minor": 5
}
